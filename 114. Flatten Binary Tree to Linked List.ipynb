{
 "cells": [
  {
   "cell_type": "markdown",
   "metadata": {},
   "source": [
    "# 114. Flatten Binary Tree to Linked List\n",
    "https://www.youtube.com/watch?v=LfKRZ_qCmYQ"
   ]
  },
  {
   "cell_type": "markdown",
   "metadata": {},
   "source": [
    "    1\n",
    "   / \\\n",
    "  2   3\n",
    " / \\\n",
    "4   5"
   ]
  },
  {
   "cell_type": "markdown",
   "metadata": {},
   "source": [
    "(a) Inorder (Left, Root, Right) : 4 2 5 1 3\n",
    "\n",
    "(b) Preorder (Root, Left, Right) : 1 2 4 5 3\n",
    "\n",
    "(c) Postorder (Left, Right, Root) : 4 5 2 3 1"
   ]
  },
  {
   "cell_type": "markdown",
   "metadata": {},
   "source": [
    "## Inorder Traversal:\n",
    "Algorithm Inorder(tree)\n",
    "   1. Traverse the left subtree, i.e., call Inorder(left-subtree)\n",
    "   2. Visit the root.\n",
    "   3. Traverse the right subtree, i.e., call Inorder(right-subtree)\n",
    "  \n",
    "## Preorder Traversal:\n",
    "Algorithm Preorder(tree)\n",
    "   1. Visit the root.\n",
    "   2. Traverse the left subtree, i.e., call Preorder(left-subtree)\n",
    "   3. Traverse the right subtree, i.e., call Preorder(right-subtree) \n",
    "   \n",
    "## Postorder Traversal:\n",
    "Algorithm Postorder(tree)\n",
    "   1. Traverse the left subtree, i.e., call Postorder(left-subtree)\n",
    "   2. Traverse the right subtree, i.e., call Postorder(right-subtree)\n",
    "   3. Visit the root."
   ]
  },
  {
   "cell_type": "code",
   "execution_count": 2,
   "metadata": {
    "collapsed": false
   },
   "outputs": [
    {
     "name": "stdout",
     "output_type": "stream",
     "text": [
      "Preorder traversal of binary tree is\n",
      "1\n",
      "2\n",
      "4\n",
      "5\n",
      "3\n",
      "\n",
      "Inorder traversal of binary tree is\n",
      "4\n",
      "2\n",
      "5\n",
      "1\n",
      "3\n",
      "\n",
      "Postorder traversal of binary tree is\n",
      "4\n",
      "5\n",
      "2\n",
      "3\n",
      "1\n"
     ]
    }
   ],
   "source": [
    "# Python program to for tree traversals\n",
    " \n",
    "# A class that represents an individual node in a\n",
    "# Binary Tree\n",
    "class Node:\n",
    "    def __init__(self,key):\n",
    "        self.left = None\n",
    "        self.right = None\n",
    "        self.val = key\n",
    " \n",
    " \n",
    "# A function to do inorder tree traversal\n",
    "def printInorder(root):\n",
    " \n",
    "    if root:\n",
    " \n",
    "        # First recur on left child\n",
    "        printInorder(root.left)\n",
    " \n",
    "        # then print the data of node\n",
    "        print(root.val),\n",
    " \n",
    "        # now recur on right child\n",
    "        printInorder(root.right)\n",
    " \n",
    " \n",
    "# A function to do postorder tree traversal\n",
    "def printPostorder(root):\n",
    " \n",
    "    if root:\n",
    " \n",
    "        # First recur on left child\n",
    "        printPostorder(root.left)\n",
    " \n",
    "        # the recur on right child\n",
    "        printPostorder(root.right)\n",
    " \n",
    "        # now print the data of node\n",
    "        print(root.val),\n",
    " \n",
    " \n",
    "# A function to do postorder tree traversal\n",
    "def printPreorder(root):\n",
    " \n",
    "    if root:\n",
    " \n",
    "        # First print the data of node\n",
    "        print(root.val),\n",
    " \n",
    "        # Then recur on left child\n",
    "        printPreorder(root.left)\n",
    " \n",
    "        # Finally recur on right child\n",
    "        printPreorder(root.right)\n",
    " \n",
    " \n",
    "# Driver code\n",
    "root = Node(1)\n",
    "root.left      = Node(2)\n",
    "root.right     = Node(3)\n",
    "root.left.left  = Node(4)\n",
    "root.left.right  = Node(5)\n",
    "\n",
    "print (\"Preorder traversal of binary tree is\")\n",
    "printPreorder(root)\n",
    " \n",
    "print (\"\\nInorder traversal of binary tree is\")\n",
    "printInorder(root)\n",
    " \n",
    "print (\"\\nPostorder traversal of binary tree is\")\n",
    "printPostorder(root)"
   ]
  },
  {
   "cell_type": "code",
   "execution_count": 23,
   "metadata": {
    "collapsed": false
   },
   "outputs": [],
   "source": [
    "class Solution(object):\n",
    "    def __init__(self):\n",
    "        self.prev = None\n",
    "        \n",
    "    def flatten(self, root):\n",
    "        \"\"\"\n",
    "        :type root: TreeNode\n",
    "        :rtype: void Do not return anything, modify root in-place instead.\n",
    "        \"\"\"\n",
    "        if root:\n",
    "            self.flatten(root.right)\n",
    "            self.flatten(root.left)\n",
    "\n",
    "            root.right = self.prev\n",
    "            root.left = None\n",
    "            self.prev = root\n",
    "        return root"
   ]
  },
  {
   "cell_type": "code",
   "execution_count": 32,
   "metadata": {
    "collapsed": false
   },
   "outputs": [
    {
     "name": "stdout",
     "output_type": "stream",
     "text": [
      "1\n",
      "2\n",
      "3\n",
      "4\n",
      "5\n",
      "6\n"
     ]
    }
   ],
   "source": [
    "root = Node(1)\n",
    "root.left      = Node(2)\n",
    "root.right     = Node(5)\n",
    "root.left.left   = Node(3)\n",
    "root.left.right  = Node(4)\n",
    "root.right.right  = Node(6)\n",
    "\n",
    "s = Solution()\n",
    "result = s.flatten(root)\n",
    "\n",
    "def printval(res):\n",
    "    if res:\n",
    "        print (res.val)\n",
    "        printval(res.right)\n",
    "        \n",
    "printval(result)"
   ]
  },
  {
   "cell_type": "markdown",
   "metadata": {},
   "source": [
    "### 注意\n",
    "Modify root in-place instead.\n",
    "\n",
    "意思就是不能用return！"
   ]
  }
 ],
 "metadata": {
  "kernelspec": {
   "display_name": "Python 3",
   "language": "python",
   "name": "python3"
  },
  "language_info": {
   "codemirror_mode": {
    "name": "ipython",
    "version": 3
   },
   "file_extension": ".py",
   "mimetype": "text/x-python",
   "name": "python",
   "nbconvert_exporter": "python",
   "pygments_lexer": "ipython3",
   "version": "3.6.0"
  }
 },
 "nbformat": 4,
 "nbformat_minor": 2
}
