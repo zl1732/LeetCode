{
 "cells": [
  {
   "cell_type": "markdown",
   "metadata": {},
   "source": [
    "# 504. Base 7"
   ]
  },
  {
   "cell_type": "markdown",
   "metadata": {},
   "source": [
    "## 一些注意：\n",
    "\n",
    "1. x // y\t(floored) quotient of x and y\n",
    "\n",
    "10//5 = 2\n",
    "\n",
    "13//5 = 2\n",
    "\n",
    "15//5 = 3\n",
    "\n",
    "2. str 的加法是分顺序的\n",
    "\n",
    "res = \"0\"\n",
    "\n",
    "res += \"2\"       --> res = \"02\"\n",
    "\n",
    "res = \"2\" + res  --> res = \"20\"\n",
    "\n",
    "3. 把if else 写到一行里\n",
    "\n",
    "return result if num>0 else \"-\" + result"
   ]
  },
  {
   "cell_type": "markdown",
   "metadata": {},
   "source": [
    "## 思路1\n",
    "recursive"
   ]
  },
  {
   "cell_type": "code",
   "execution_count": 19,
   "metadata": {
    "collapsed": true
   },
   "outputs": [],
   "source": [
    "class Solution(object):\n",
    "    def convertToBase7(self, num):\n",
    "        \"\"\"\n",
    "        :type num: int\n",
    "        :rtype: str\n",
    "        \"\"\"\n",
    "        # base case\n",
    "        if num<0:\n",
    "            return \"-\" + self.convertToBase7(-num)\n",
    "        if num<7:\n",
    "            return str(num)\n",
    "        else:\n",
    "            return self.convertToBase7(num//7) + str(num%7)"
   ]
  },
  {
   "cell_type": "code",
   "execution_count": 20,
   "metadata": {
    "collapsed": false
   },
   "outputs": [
    {
     "data": {
      "text/plain": [
       "'-215'"
      ]
     },
     "execution_count": 20,
     "metadata": {},
     "output_type": "execute_result"
    }
   ],
   "source": [
    "s = Solution()\n",
    "s.convertToBase7(-110)"
   ]
  },
  {
   "cell_type": "markdown",
   "metadata": {},
   "source": [
    "# 思路2\n",
    "直接求解"
   ]
  },
  {
   "cell_type": "code",
   "execution_count": 23,
   "metadata": {
    "collapsed": true
   },
   "outputs": [],
   "source": [
    "class Solution(object):\n",
    "    def convertToBase7(self, num):\n",
    "        \"\"\"\n",
    "        :type num: int\n",
    "        :rtype: str\n",
    "        \"\"\"\n",
    "        # 先都换成正数\n",
    "        abs_num = abs(num)\n",
    "        result = \"\"\n",
    "        while (abs_num):\n",
    "            # 每次取余数，然后除7，如100%7 = 2，res = \"2\", 100//7 = 14， 14%7 = 0, res = \"02\", 14//7 = 2, 2%7 = 2, res = \"202\"\n",
    "            result = str(abs_num%7) + result\n",
    "            abs_num = abs_num//7\n",
    "        \n",
    "        return result if num>0 else \"-\" + result"
   ]
  },
  {
   "cell_type": "code",
   "execution_count": 24,
   "metadata": {
    "collapsed": false
   },
   "outputs": [
    {
     "data": {
      "text/plain": [
       "'-215'"
      ]
     },
     "execution_count": 24,
     "metadata": {},
     "output_type": "execute_result"
    }
   ],
   "source": [
    "s = Solution()\n",
    "s.convertToBase7(-110)"
   ]
  }
 ],
 "metadata": {
  "kernelspec": {
   "display_name": "Python 3",
   "language": "python",
   "name": "python3"
  },
  "language_info": {
   "codemirror_mode": {
    "name": "ipython",
    "version": 3
   },
   "file_extension": ".py",
   "mimetype": "text/x-python",
   "name": "python",
   "nbconvert_exporter": "python",
   "pygments_lexer": "ipython3",
   "version": "3.6.0"
  }
 },
 "nbformat": 4,
 "nbformat_minor": 2
}
