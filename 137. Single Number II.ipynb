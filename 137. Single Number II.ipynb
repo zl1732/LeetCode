{
 "cells": [
  {
   "cell_type": "markdown",
   "metadata": {},
   "source": [
    "# 137. Single Number II\n",
    "## 思路"
   ]
  },
  {
   "cell_type": "markdown",
   "metadata": {},
   "source": [
    "全都变成binary，对每一位bit相加，三个的加起来%==0，一个的正好剩下。\n",
    "比如3是唯一的，对应0b11，个位数%3=1，十位上%3=1，取或运算，等于11，就是3\n",
    "运算结果如下：\n",
    "i=0,个位\n",
    "i =  0 a =  1 0b1\n",
    "i =  0 a =  1 0b1\n",
    "i =  0 a =  1 0b1\n",
    "i =  0 a =  3 0b11   <------\n",
    "i =  0 a =  7 0b111\n",
    "i =  0 a =  7 0b111\n",
    "i =  0 a =  7 0b111\n",
    "i =  0 a =  11 0b1011\n",
    "i =  0 a =  11 0b1011\n",
    "i =  0 a =  11 0b1011\n",
    "1 （01）\n",
    "\n",
    "i=1，十位\n",
    "i =  1 a =  2 0b1\n",
    "i =  1 a =  2 0b1\n",
    "i =  1 a =  2 0b1\n",
    "i =  1 a =  3 0b1    <------\n",
    "i =  1 a =  7 0b11\n",
    "i =  1 a =  7 0b11\n",
    "i =  1 a =  7 0b11\n",
    "i =  1 a =  11 0b101\n",
    "i =  1 a =  11 0b101\n",
    "i =  1 a =  11 0b101\n",
    "2 （10）\n",
    "\n",
    "百位\n",
    "i =  2 a =  7 0b1\n",
    "i =  2 a =  7 0b1\n",
    "i =  2 a =  7 0b1\n",
    "0\n",
    "\n",
    "千位\n",
    "i =  3 a =  11 0b1\n",
    "i =  3 a =  11 0b1\n",
    "i =  3 a =  11 0b1"
   ]
  },
  {
   "cell_type": "markdown",
   "metadata": {},
   "source": [
    "## 注意：\n",
    "In python if you has a positive integer, you can't get negative integer by setting its highest bit to 1 because there is no highest bit actually. Int in python is an object and has no upper limit, you could try 1<<31, you get 2147483648 other than -2147483648."
   ]
  },
  {
   "cell_type": "code",
   "execution_count": 48,
   "metadata": {
    "collapsed": true
   },
   "outputs": [],
   "source": [
    "def singleNumber(A):\n",
    "    #A = sorted(A)\n",
    "    ans = 0\n",
    "    for i in range(0,32):\n",
    "        count = 0\n",
    "        #if not (A[-1]>>i & 1):     ## 这里不能这样，不一定都是连续的，比如[0,0,0,5]，i=1就break，实际上不应该break\n",
    "        #    break\n",
    "        for a in A:\n",
    "            if ((a >> i) & 1):\n",
    "                print(\"i = \",i,\"a = \",a,bin(a>>i))\n",
    "                count+=1\n",
    "        ans |= ((count%3) << i)\n",
    "        print(count%3<<i)\n",
    "    return convert(ans)\n",
    "\n",
    "def convert(self,x):\n",
    "    if x >= 2**31:\n",
    "        x -= 2**32\n",
    "    return x"
   ]
  },
  {
   "cell_type": "code",
   "execution_count": 53,
   "metadata": {
    "collapsed": false
   },
   "outputs": [
    {
     "name": "stdout",
     "output_type": "stream",
     "text": [
      "i =  0 a =  1 0b1\n",
      "i =  0 a =  1 0b1\n",
      "i =  0 a =  1 0b1\n",
      "i =  0 a =  3 0b11\n",
      "i =  0 a =  7 0b111\n",
      "i =  0 a =  7 0b111\n",
      "i =  0 a =  7 0b111\n",
      "i =  0 a =  11 0b1011\n",
      "i =  0 a =  11 0b1011\n",
      "i =  0 a =  11 0b1011\n",
      "1\n",
      "i =  1 a =  2 0b1\n",
      "i =  1 a =  2 0b1\n",
      "i =  1 a =  2 0b1\n",
      "i =  1 a =  3 0b1\n",
      "i =  1 a =  7 0b11\n",
      "i =  1 a =  7 0b11\n",
      "i =  1 a =  7 0b11\n",
      "i =  1 a =  11 0b101\n",
      "i =  1 a =  11 0b101\n",
      "i =  1 a =  11 0b101\n",
      "2\n",
      "i =  2 a =  7 0b1\n",
      "i =  2 a =  7 0b1\n",
      "i =  2 a =  7 0b1\n",
      "0\n",
      "i =  3 a =  11 0b1\n",
      "i =  3 a =  11 0b1\n",
      "i =  3 a =  11 0b1\n",
      "0\n",
      "0\n",
      "0\n",
      "0\n",
      "0\n",
      "0\n",
      "0\n",
      "0\n",
      "0\n",
      "0\n",
      "0\n",
      "0\n",
      "0\n",
      "0\n",
      "0\n",
      "0\n",
      "0\n",
      "0\n",
      "0\n",
      "0\n",
      "0\n",
      "0\n",
      "0\n",
      "0\n",
      "0\n",
      "0\n",
      "0\n",
      "0\n",
      "0\n"
     ]
    },
    {
     "data": {
      "text/plain": [
       "3"
      ]
     },
     "execution_count": 53,
     "metadata": {},
     "output_type": "execute_result"
    }
   ],
   "source": [
    "a=[1,1,1,2,2,2,3,7,7,7,11,11,11]\n",
    "b = [0,0,0,5]\n",
    "singleNumber(a)"
   ]
  },
  {
   "cell_type": "code",
   "execution_count": 50,
   "metadata": {
    "collapsed": false
   },
   "outputs": [
    {
     "data": {
      "text/plain": [
       "3"
      ]
     },
     "execution_count": 50,
     "metadata": {},
     "output_type": "execute_result"
    }
   ],
   "source": [
    "# a|=b 相当于 a = a|b   \n",
    "ans = 1<<0\n",
    "# _1\n",
    "ans |= 1<<1\n",
    "# _1 | 1_ = 11 = 3\n",
    "ans"
   ]
  },
  {
   "cell_type": "code",
   "execution_count": 51,
   "metadata": {
    "collapsed": false
   },
   "outputs": [
    {
     "data": {
      "text/plain": [
       "0"
      ]
     },
     "execution_count": 51,
     "metadata": {},
     "output_type": "execute_result"
    }
   ],
   "source": [
    "ans = 1<<0\n",
    "# _1\n",
    "ans &= 1<<1\n",
    "# _1 & 1_ = 00 = 0\n",
    "ans"
   ]
  },
  {
   "cell_type": "code",
   "execution_count": 54,
   "metadata": {
    "collapsed": false
   },
   "outputs": [
    {
     "data": {
      "text/plain": [
       "2"
      ]
     },
     "execution_count": 54,
     "metadata": {},
     "output_type": "execute_result"
    }
   ],
   "source": [
    "# 10 & 11 = 10 = 2\n",
    "ans = 1<<1 \n",
    "ans &= 3\n",
    "ans"
   ]
  },
  {
   "cell_type": "code",
   "execution_count": 58,
   "metadata": {
    "collapsed": false
   },
   "outputs": [
    {
     "name": "stdout",
     "output_type": "stream",
     "text": [
      "-2147483647\n",
      "-1\n"
     ]
    }
   ],
   "source": [
    "def convert(x):\n",
    "    if x >= 2**31:\n",
    "        x -= 2**32\n",
    "    return x\n",
    "\n",
    "print(convert(2**31+1))\n",
    "print(convert(2**32-1))\n"
   ]
  }
 ],
 "metadata": {
  "kernelspec": {
   "display_name": "Python 3",
   "language": "python",
   "name": "python3"
  },
  "language_info": {
   "codemirror_mode": {
    "name": "ipython",
    "version": 3
   },
   "file_extension": ".py",
   "mimetype": "text/x-python",
   "name": "python",
   "nbconvert_exporter": "python",
   "pygments_lexer": "ipython3",
   "version": "3.6.0"
  }
 },
 "nbformat": 4,
 "nbformat_minor": 2
}
