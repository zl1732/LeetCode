{
 "cells": [
  {
   "cell_type": "markdown",
   "metadata": {},
   "source": [
    "# 143. Reorder List"
   ]
  },
  {
   "cell_type": "markdown",
   "metadata": {},
   "source": [
    "## 解题思路：\n",
    "\n",
    "step1:将链表均分成两半。（即用fast&slow指针找出中间节点，切断即可。）\n",
    "Break list in the middle to two lists (use fast & slow pointers)\n",
    "\n",
    "step2:将后半链表逆序。\n",
    "Reverse the order of the second list\n",
    "\n",
    "step3:交替插入。\n",
    "Merge two list back together"
   ]
  },
  {
   "cell_type": "markdown",
   "metadata": {},
   "source": [
    "## 偶数长度\n",
    "1 - 2 - 3 - 4 - 5 - 6 - 7 - 8 - 9 - 10\n",
    "step1：\n",
    "* 找到中点 5\n",
    "* 5.next -> None, 也就是变成结尾\n",
    "\n",
    "step2：\n",
    "* reverse后半段链表，变成 10 - 9 - 8 - 7 - 6\n",
    "\n",
    "step3：\n",
    "* 交错插入前半段链表，变成 \n",
    "                           1  2  3  4  5\n",
    "                            10  9  8  7  6\n",
    "                            \n",
    "                            \n",
    "## 奇数长度\n",
    "1 2 3 4 5 -> 1 2 3 + 4 5\n",
    "\n",
    "               1  2  3\n",
    "                 5  4"
   ]
  },
  {
   "cell_type": "code",
   "execution_count": 12,
   "metadata": {
    "collapsed": false
   },
   "outputs": [],
   "source": [
    "class Solution(object):\n",
    "    def reorderList(self, head):\n",
    "        \"\"\"\n",
    "        :type head: ListNode\n",
    "        :rtype: void Do not return anything, modify head in-place instead.\n",
    "        \"\"\"\n",
    "        if not head or not head.next:\n",
    "            return\n",
    "        \n",
    "        # mid 也是node类型数据\n",
    "        head, mid = self.findMid(head)\n",
    "        # mid.next 就是整个后半段链表的头部\n",
    "        rev = self.reverseList(mid)\n",
    "        # 拼接\n",
    "        head = self.mergeList(head, rev)\n",
    "        \n",
    "    #def findMid(self,head):\n",
    "    #    # 思路是两个行走的指针，速度是二倍关系，当一个到达结尾时，the other one is in the mid\n",
    "    #    mid = head\n",
    "    #    tail = head.next\n",
    "    #    \n",
    "    #    while (tail and tail.next): # two.next！=None管偶数情况，two！=None管奇数情况\n",
    "    #        mid = mid.next\n",
    "    #        tail = tail.next.next\n",
    "    #    \n",
    "    #    return  mid.next\n",
    "\n",
    "    def findMid(self,head):\n",
    "        fast = head.next\n",
    "        slow = head\n",
    "        while fast and fast.next:\n",
    "            slow = slow.next\n",
    "            fast = fast.next\n",
    "            fast = fast.next\n",
    "\n",
    "        middle = slow.next\n",
    "        slow.next = None\n",
    "    \n",
    "        return head, middle\n",
    "\n",
    "\n",
    "    def reverseList(self,head):\n",
    "        prev = None\n",
    "        while head:\n",
    "            temp = head.next\n",
    "            head.next = prev\n",
    "            prev = head\n",
    "            head = temp\n",
    "        return prev\n",
    "    \n",
    "    \n",
    "    # 这个方程很有趣，记住：\n",
    "    # head始终在head，tail跟着走到最后\n",
    "    # 连接时候:\n",
    "    # 1, 连接tail到另一个list的第一个\n",
    "    # 2, 更新tail的位置\n",
    "    # 3, 更新b到下一个位置，为下下次做准备（中间互换一次a，b，所以是下下次）\n",
    "    # 注意： 每次指针从a指到b上，所以说while（b）,另外只要a上还有，就要互换a,b，所以是if a\n",
    "    def mergeList(self, a, b):\n",
    "        head, tail = a, a\n",
    "        a = a.next\n",
    "        while(b):\n",
    "            tail.next = b\n",
    "            tail = tail.next\n",
    "            b = b.next\n",
    "            if a:\n",
    "                a,b = b,a\n",
    "        return head"
   ]
  },
  {
   "cell_type": "code",
   "execution_count": 39,
   "metadata": {
    "collapsed": false
   },
   "outputs": [],
   "source": [
    "head = ListNode(1)\n",
    "head.next = ListNode(2)\n",
    "head.next.next = ListNode(3)\n",
    "head.next.next.next = ListNode(4)\n",
    "head.next.next.next.next = ListNode(5)\n"
   ]
  },
  {
   "cell_type": "markdown",
   "metadata": {},
   "source": [
    "## 注意\n",
    "findMid方程：\n",
    "1. fast=head\n",
    "这种情况：   \n",
    "            1    2    3    4\n",
    "               6     5\n",
    "到达5后，b是3,4，所以while（b）还会执行，但是if a那里不执行，所以不对调，将3,4一块连到a上.\n",
    "\n",
    "2. fast=head.next\n",
    "这种情况：  \n",
    "             1    2    3\n",
    "               6     5    4\n",
    "到达3后，b是4，连上之后结束\n"
   ]
  }
 ],
 "metadata": {
  "kernelspec": {
   "display_name": "Python 3",
   "language": "python",
   "name": "python3"
  },
  "language_info": {
   "codemirror_mode": {
    "name": "ipython",
    "version": 3
   },
   "file_extension": ".py",
   "mimetype": "text/x-python",
   "name": "python",
   "nbconvert_exporter": "python",
   "pygments_lexer": "ipython3",
   "version": "3.6.0"
  }
 },
 "nbformat": 4,
 "nbformat_minor": 2
}
