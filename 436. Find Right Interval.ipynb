{
 "cells": [
  {
   "cell_type": "markdown",
   "metadata": {},
   "source": [
    "# 436. Find Right Interval\n",
    "## 思路\n",
    "先将list按第一个元素排序，记录对应（头元素，index）的tuple，然后在其中二分法搜索每个list的尾元素"
   ]
  },
  {
   "cell_type": "code",
   "execution_count": 60,
   "metadata": {
    "collapsed": false
   },
   "outputs": [
    {
     "data": {
      "text/plain": [
       "[(1, 2), (2, 1), (3, 0)]"
      ]
     },
     "execution_count": 60,
     "metadata": {},
     "output_type": "execute_result"
    }
   ],
   "source": [
    "intervals = [ [3,4], [2,3], [1,2] ]\n",
    "l = sorted((e[0], i) for i, e in enumerate(intervals))\n",
    "l\n",
    "#[(start element, index), ...]"
   ]
  },
  {
   "cell_type": "code",
   "execution_count": 50,
   "metadata": {
    "collapsed": true
   },
   "outputs": [],
   "source": [
    "import bisect\n",
    "def findRightInterval(intervals):\n",
    "    l = sorted((e[0], i) for i, e in enumerate(intervals))\n",
    "    res = []\n",
    "    for e in intervals:\n",
    "        # 二项搜索，如果没有，返回下一个index\n",
    "        r = bisect.bisect_left(l, (e[-1],))\n",
    "        print((e[-1],),r)\n",
    "        # 如果搜索结果在长度范围内，打印index，否则打印-1\n",
    "        res.append(l[r][1] if r < len(l) else -1)\n",
    "    return res"
   ]
  },
  {
   "cell_type": "code",
   "execution_count": 51,
   "metadata": {
    "collapsed": false
   },
   "outputs": [
    {
     "name": "stdout",
     "output_type": "stream",
     "text": [
      "(4,) 3\n",
      "(3,) 2\n",
      "(2,) 1\n"
     ]
    },
    {
     "data": {
      "text/plain": [
       "[-1, 0, 1]"
      ]
     },
     "execution_count": 51,
     "metadata": {},
     "output_type": "execute_result"
    }
   ],
   "source": [
    "findRightInterval(intervals)"
   ]
  },
  {
   "cell_type": "code",
   "execution_count": 45,
   "metadata": {
    "collapsed": false
   },
   "outputs": [
    {
     "data": {
      "text/plain": [
       "('red', 5)"
      ]
     },
     "execution_count": 45,
     "metadata": {},
     "output_type": "execute_result"
    }
   ],
   "source": [
    "data = [('red', 5), ('blue', 1), ('yellow', 8), ('black', 0)]\n",
    "data.sort(key=lambda r: r[1])\n",
    "keys = [r[1] for r in data]         # precomputed list of keys\n",
    "data[bisect.bisect_left(keys, 3)]\n"
   ]
  },
  {
   "cell_type": "markdown",
   "metadata": {},
   "source": [
    "# 注意\n",
    "因为l是tunple list，所以搜索时候也要是tuple\n",
    "\n",
    "[(1, 2), (2, 1), (3, 0)]\n",
    "\n",
    "bisect.bisect_left(l, (e[-1],))"
   ]
  }
 ],
 "metadata": {
  "kernelspec": {
   "display_name": "Python 3",
   "language": "python",
   "name": "python3"
  },
  "language_info": {
   "codemirror_mode": {
    "name": "ipython",
    "version": 3
   },
   "file_extension": ".py",
   "mimetype": "text/x-python",
   "name": "python",
   "nbconvert_exporter": "python",
   "pygments_lexer": "ipython3",
   "version": "3.6.0"
  }
 },
 "nbformat": 4,
 "nbformat_minor": 2
}
