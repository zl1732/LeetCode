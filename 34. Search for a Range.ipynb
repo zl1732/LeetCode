{
 "cells": [
  {
   "cell_type": "markdown",
   "metadata": {},
   "source": [
    "# 34. Search for a Range"
   ]
  },
  {
   "cell_type": "code",
   "execution_count": 19,
   "metadata": {
    "collapsed": false
   },
   "outputs": [],
   "source": [
    "class Solution(object):\n",
    "    ###################\n",
    "    ##    method1    ##\n",
    "    ###################\n",
    "    # 递归的方法\n",
    "    def helperSearch(self, lo,hi,nums, target):\n",
    "        if nums[lo] == target == nums[hi]:\n",
    "            return [lo, hi]\n",
    "        elif nums[lo] <= target <= nums[hi]:\n",
    "            mid = int(lo + (hi-lo)/2)\n",
    "            left = self.helperSearch(lo, mid, nums, target)\n",
    "            right = self.helperSearch(mid+1, hi, nums, target)\n",
    "            return max(left, right) if -1 in left+right else [left[0],right[1]]\n",
    "        # target is not in the list\n",
    "        else:\n",
    "            return [-1, -1]\n",
    "    \n",
    "    def searchRange(self, nums, target):\n",
    "        \"\"\"\n",
    "        :type nums: List[int]\n",
    "        :type target: int\n",
    "        :rtype: List[int]\n",
    "        \"\"\"\n",
    "        return self.helperSearch(0, len(nums)-1, nums, target)\n",
    "        \n",
    "\n",
    "    ###################\n",
    "    ##    method2    ##\n",
    "    ###################\n",
    "    # 常规方法，分别找左侧和右侧最远点\n",
    "    def searchRange2(self, nums, target):\n",
    "        left = self.searchLeft(self, nums, target)\n",
    "        right = self.searchRight(self, nums, target)\n",
    "        return [left, right]\n",
    "\n",
    "    def searchLeft(self, nums, target):\n",
    "        lo = 0\n",
    "        hi = len(nums)-1\n",
    "        result = -1\n",
    "        while (lo<hi):\n",
    "            mid = int((hi+lo)/2)\n",
    "            if nums[mid] == target:\n",
    "                result = mid\n",
    "                hi = mid - 1\n",
    "            elif nums[mid] > target:\n",
    "                hi = mid\n",
    "            elif nums[mid] < target:\n",
    "                lo = mid + 1\n",
    "        return result\n",
    "\n",
    "    def searchRight(self, nums, target):\n",
    "        lo = 0\n",
    "        hi = len(nums)-1\n",
    "        result = -1\n",
    "        while (lo<hi):\n",
    "            mid = int((hi+lo)/2)\n",
    "            if nums[mid] == target:\n",
    "                result = mid\n",
    "                lo = mid + 1\n",
    "            elif nums[mid] > target:\n",
    "                hi = mid\n",
    "            elif nums[mid] < target:\n",
    "                lo = mid ·+ 1\n",
    "        return result\n"
   ]
  },
  {
   "cell_type": "code",
   "execution_count": 52,
   "metadata": {
    "collapsed": false
   },
   "outputs": [
    {
     "data": {
      "text/plain": [
       "[2, 7]"
      ]
     },
     "execution_count": 52,
     "metadata": {},
     "output_type": "execute_result"
    }
   ],
   "source": [
    "nums = [5, 6, 7,7,7,7,7,7, 8, 8, 10]\n",
    "target = 7\n",
    "s= Solution()\n",
    "s.searchRange(nums, target)"
   ]
  },
  {
   "cell_type": "markdown",
   "metadata": {},
   "source": [
    "## 常规方法找左侧最远端点演示"
   ]
  },
  {
   "cell_type": "code",
   "execution_count": 49,
   "metadata": {
    "collapsed": false
   },
   "outputs": [
    {
     "name": "stdout",
     "output_type": "stream",
     "text": [
      "1: 0 10 5\n",
      "==\n",
      "2: 0 4 5\n",
      "+++++++++++++++++++\n",
      "1: 0 4 2\n",
      "==\n",
      "2: 0 1 2\n",
      "+++++++++++++++++++\n",
      "1: 0 1 0\n",
      "<\n",
      "2: 1 1 0\n",
      "+++++++++++++++++++\n"
     ]
    },
    {
     "data": {
      "text/plain": [
       "2"
      ]
     },
     "execution_count": 49,
     "metadata": {},
     "output_type": "execute_result"
    }
   ],
   "source": [
    "#\n",
    "def searchLeft(nums, target):\n",
    "    lo = 0\n",
    "    hi = len(nums)-1\n",
    "    while (lo<hi):\n",
    "        mid = int((hi+lo)/2)\n",
    "        print(\"1:\",lo, hi, mid)\n",
    "        if nums[mid] == target:\n",
    "            result = mid\n",
    "            hi = mid - 1\n",
    "            print(\"==\")\n",
    "        elif nums[mid] > target:\n",
    "            hi = mid\n",
    "            print(\">\")\n",
    "        elif nums[mid] < target:\n",
    "            lo = mid + 1\n",
    "            print(\"<\")\n",
    "        print(\"2:\",lo, hi, mid)\n",
    "        print(\"+++++++++++++++++++\")\n",
    "    return result\n",
    "\n",
    "searchLeft(nums,target)"
   ]
  },
  {
   "cell_type": "markdown",
   "metadata": {},
   "source": [
    "## 嵌套方程，比较取巧的办法\n",
    "## 找target的最左侧，再找target下一个数的最左侧-1"
   ]
  },
  {
   "cell_type": "code",
   "execution_count": 75,
   "metadata": {
    "collapsed": true
   },
   "outputs": [],
   "source": [
    "def searchRange(nums, target):\n",
    "    def searchFirst(tar):\n",
    "        lo, hi = 0, len(nums)-1\n",
    "        first = -1\n",
    "        while lo<hi:\n",
    "            mid = int((lo+hi)/2)\n",
    "            if nums[mid] == tar:\n",
    "                first = mid\n",
    "                hi = mid - 1\n",
    "            elif nums[mid] > tar:\n",
    "                hi = mid\n",
    "            elif nums[mid] < tar:\n",
    "                lo = mid + 1\n",
    "        return first\n",
    "    return searchFirst(target)"
   ]
  },
  {
   "cell_type": "code",
   "execution_count": 77,
   "metadata": {
    "collapsed": false
   },
   "outputs": [
    {
     "data": {
      "text/plain": [
       "[2, 7]"
      ]
     },
     "execution_count": 77,
     "metadata": {},
     "output_type": "execute_result"
    }
   ],
   "source": [
    "[searchRange(nums, target), searchRange(nums, target+1)-1]"
   ]
  },
  {
   "cell_type": "markdown",
   "metadata": {},
   "source": [
    "## 找最右侧"
   ]
  },
  {
   "cell_type": "code",
   "execution_count": 78,
   "metadata": {
    "collapsed": false
   },
   "outputs": [],
   "source": [
    "def searchRange(nums, target):\n",
    "    def searchFirst(tar):\n",
    "        lo, hi = 0, len(nums)-1\n",
    "        while lo<hi:\n",
    "            mid = int((lo+hi)/2)\n",
    "            # 重点\n",
    "            # 不设置 ==， 用>=，向左侧接近，用<=，向右侧接近\n",
    "            if nums[mid] >= tar:\n",
    "                hi = mid\n",
    "            elif nums[mid] < tar:\n",
    "                lo = mid + 1\n",
    "        return lo\n",
    "    lo = searchFirst(target)\n",
    "    return [lo,searchFirst(target+1)-1] if target in nums[lo:lo+1] else [-1,-1]"
   ]
  },
  {
   "cell_type": "markdown",
   "metadata": {},
   "source": [
    "## 找最左侧"
   ]
  },
  {
   "cell_type": "code",
   "execution_count": 72,
   "metadata": {
    "collapsed": true
   },
   "outputs": [],
   "source": [
    "def searchRange(nums, target):\n",
    "    def searchFirst(tar):\n",
    "        lo, hi = 0, len(nums)-1\n",
    "        while lo<hi-1:\n",
    "            print(lo,hi)\n",
    "            mid = int((lo+hi)/2)\n",
    "            # 重点\n",
    "            # 不设置 ==， 用>=，向左侧接近，用<=，向右侧接近\n",
    "            if nums[mid] > tar:\n",
    "                hi = mid - 1\n",
    "            elif nums[mid] <= tar:\n",
    "                lo = mid\n",
    "        return hi\n",
    "    lo = searchFirst(target-1)+1\n",
    "    return [lo,searchFirst(target)] if target in nums[lo:lo+1] else [-1,-1]"
   ]
  },
  {
   "cell_type": "code",
   "execution_count": 73,
   "metadata": {
    "collapsed": false
   },
   "outputs": [
    {
     "name": "stdout",
     "output_type": "stream",
     "text": [
      "0 10\n",
      "0 4\n",
      "0 10\n",
      "5 10\n",
      "7 10\n"
     ]
    },
    {
     "data": {
      "text/plain": [
       "[2, 7]"
      ]
     },
     "execution_count": 73,
     "metadata": {},
     "output_type": "execute_result"
    }
   ],
   "source": [
    "searchRange(nums, target)"
   ]
  }
 ],
 "metadata": {
  "kernelspec": {
   "display_name": "Python 3",
   "language": "python",
   "name": "python3"
  },
  "language_info": {
   "codemirror_mode": {
    "name": "ipython",
    "version": 3
   },
   "file_extension": ".py",
   "mimetype": "text/x-python",
   "name": "python",
   "nbconvert_exporter": "python",
   "pygments_lexer": "ipython3",
   "version": "3.6.0"
  }
 },
 "nbformat": 4,
 "nbformat_minor": 2
}
