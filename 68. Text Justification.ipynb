{
 "cells": [
  {
   "cell_type": "markdown",
   "metadata": {},
   "source": [
    "# 68. Text Justification\n",
    "思路如下，说不清"
   ]
  },
  {
   "cell_type": "code",
   "execution_count": 83,
   "metadata": {
    "collapsed": false
   },
   "outputs": [],
   "source": [
    "class Solution(object):\n",
    "    def fullJustify(self, words, maxWidth):\n",
    "        \"\"\"\n",
    "        :type words: List[str]\n",
    "        :type maxWidth: int\n",
    "        :rtype: List[str]\n",
    "        \"\"\"\n",
    "        res, cur, num_of_letters = [], [], 0\n",
    "        for w in words:\n",
    "            if num_of_letters + len(w) + len(cur) > maxWidth:\n",
    "                for i in range(maxWidth - num_of_letters):\n",
    "                    cur[i%(len(cur)-1 or 1)] += ' '\n",
    "                    print(i,len(cur),i%(len(cur)-1 or 1),cur[i%(len(cur)-1 or 1)])\n",
    "                    print(cur)\n",
    "                    print(\"+++++++++++++++\")\n",
    "                res.append(''.join(cur))\n",
    "                cur, num_of_letters = [], 0\n",
    "                print(\"res = \",res,\"\\n ====================\")\n",
    "            cur += [w]\n",
    "            num_of_letters += len(w)\n",
    "            print(\"word:\",w,\"num_of_letters: \",num_of_letters,\"len(cur):\",len(cur))\n",
    "        return res + [' '.join(cur).ljust(maxWidth,\"0\")]"
   ]
  },
  {
   "cell_type": "markdown",
   "metadata": {},
   "source": [
    "# 演示范例"
   ]
  },
  {
   "cell_type": "code",
   "execution_count": 82,
   "metadata": {
    "collapsed": false
   },
   "outputs": [
    {
     "name": "stdout",
     "output_type": "stream",
     "text": [
      "word: Th num_of_letters:  2 len(cur): 1\n",
      "word: is num_of_letters:  4 len(cur): 2\n",
      "word: an num_of_letters:  6 len(cur): 3\n",
      "word: exp num_of_letters:  9 len(cur): 4\n",
      "0 4 0 Th \n",
      "['Th ', 'is', 'an', 'exp']\n",
      "+++++++++++++++\n",
      "1 4 1 is \n",
      "['Th ', 'is ', 'an', 'exp']\n",
      "+++++++++++++++\n",
      "2 4 2 an \n",
      "['Th ', 'is ', 'an ', 'exp']\n",
      "+++++++++++++++\n",
      "3 4 0 Th  \n",
      "['Th  ', 'is ', 'an ', 'exp']\n",
      "+++++++++++++++\n",
      "4 4 1 is  \n",
      "['Th  ', 'is  ', 'an ', 'exp']\n",
      "+++++++++++++++\n",
      "5 4 2 an  \n",
      "['Th  ', 'is  ', 'an  ', 'exp']\n",
      "+++++++++++++++\n",
      "6 4 0 Th   \n",
      "['Th   ', 'is  ', 'an  ', 'exp']\n",
      "+++++++++++++++\n",
      "res =  ['Th   is  an  exp'] \n",
      " ====================\n",
      "word: tell num_of_letters:  4 len(cur): 1\n",
      "word: me num_of_letters:  6 len(cur): 2\n",
      "word: your num_of_letters:  10 len(cur): 3\n",
      "0 3 0 tell \n",
      "['tell ', 'me', 'your']\n",
      "+++++++++++++++\n",
      "1 3 1 me \n",
      "['tell ', 'me ', 'your']\n",
      "+++++++++++++++\n",
      "2 3 0 tell  \n",
      "['tell  ', 'me ', 'your']\n",
      "+++++++++++++++\n",
      "3 3 1 me  \n",
      "['tell  ', 'me  ', 'your']\n",
      "+++++++++++++++\n",
      "4 3 0 tell   \n",
      "['tell   ', 'me  ', 'your']\n",
      "+++++++++++++++\n",
      "5 3 1 me   \n",
      "['tell   ', 'me   ', 'your']\n",
      "+++++++++++++++\n",
      "res =  ['Th   is  an  exp', 'tell   me   your'] \n",
      " ====================\n",
      "word: secret num_of_letters:  6 len(cur): 1\n",
      "word: yes num_of_letters:  9 len(cur): 2\n"
     ]
    },
    {
     "data": {
      "text/plain": [
       "['Th   is  an  exp', 'tell   me   your', 'secret yes000000']"
      ]
     },
     "execution_count": 82,
     "metadata": {},
     "output_type": "execute_result"
    }
   ],
   "source": [
    "s = Solution()\n",
    "words = [\"Th\", \"is\", \"an\", \"exp\",\"tell\",\"me\", \"your\",\"secret\",\"yes\"]\n",
    "l=16\n",
    "s.fullJustify(words,l)"
   ]
  },
  {
   "cell_type": "markdown",
   "metadata": {},
   "source": [
    "## 详细思路"
   ]
  },
  {
   "cell_type": "code",
   "execution_count": null,
   "metadata": {
    "collapsed": true
   },
   "outputs": [],
   "source": [
    "class Solution(object):\n",
    "    def fullJustify(self, words, maxWidth):\n",
    "        \"\"\"\n",
    "        :type words: List[str]\n",
    "        :type maxWidth: int\n",
    "        :rtype: List[str]\n",
    "        \"\"\"\n",
    "        \n",
    "        # initialize, current_line_words represent the number of space\n",
    "        result, current_line_words, current_line_character_counts = [], [], 0\n",
    "        # loop each word in the words list\n",
    "        for word in words:\n",
    "            # space + present length + length of coming word\n",
    "            # when new coming word reach next line, process the current line, align space\n",
    "            if len(current_line_words) + current_line_character_counts + len(word) > maxWidth:\n",
    "                # example: \"i have a dream\", there are 4 words and 3 intervals where should be space(s)\n",
    "                num_of_interval_for_space = len(current_line_words)-1\n",
    "                # max - counts of all words character w/o space, the rest should be set to space\n",
    "                for i in range(maxWidth - current_line_character_counts):\n",
    "                    # or 1, in case that num_of_interval_for_space is 0\n",
    "                    current_line_words[i%(num_of_interval_for_space or 1)] += \" \"\n",
    "                # append the current line to the result\n",
    "                result.append(\"\".join(current_line_words))\n",
    "                # renew\n",
    "                current_line_words, current_line_character_counts = [], 0\n",
    "                \n",
    "            # store the current word into the new list and update the counts\n",
    "            # 如果超过长度限制，先执行上面，更新current_line_words, current_line_character_counts后执行这里\n",
    "            # 如果不超过，直接执行这里，黏在已有current_line_words, current_line_character_counts里。\n",
    "            current_line_words.append(word)\n",
    "            current_line_character_counts += len(word)\n",
    "        return result + [' '.join(current_line_words).ljust(maxWidth,\" \")]"
   ]
  },
  {
   "cell_type": "markdown",
   "metadata": {},
   "source": [
    "## 注意：\n",
    "两种append list的方式如下"
   ]
  },
  {
   "cell_type": "code",
   "execution_count": 94,
   "metadata": {
    "collapsed": false
   },
   "outputs": [],
   "source": [
    "words = [\"This\", \"is\", \"an\", \"example.\"]"
   ]
  },
  {
   "cell_type": "code",
   "execution_count": 95,
   "metadata": {
    "collapsed": false
   },
   "outputs": [
    {
     "data": {
      "text/plain": [
       "['This', 'is', 'an', 'example.', '1']"
      ]
     },
     "execution_count": 95,
     "metadata": {},
     "output_type": "execute_result"
    }
   ],
   "source": [
    "words += [\"1\"]\n",
    "words"
   ]
  },
  {
   "cell_type": "code",
   "execution_count": 96,
   "metadata": {
    "collapsed": false
   },
   "outputs": [
    {
     "data": {
      "text/plain": [
       "['This', 'is', 'an', 'example.', '1', '2']"
      ]
     },
     "execution_count": 96,
     "metadata": {},
     "output_type": "execute_result"
    }
   ],
   "source": [
    "words.append(\"2\")\n",
    "words"
   ]
  }
 ],
 "metadata": {
  "kernelspec": {
   "display_name": "Python 3",
   "language": "python",
   "name": "python3"
  },
  "language_info": {
   "codemirror_mode": {
    "name": "ipython",
    "version": 3
   },
   "file_extension": ".py",
   "mimetype": "text/x-python",
   "name": "python",
   "nbconvert_exporter": "python",
   "pygments_lexer": "ipython3",
   "version": "3.6.0"
  }
 },
 "nbformat": 4,
 "nbformat_minor": 2
}
