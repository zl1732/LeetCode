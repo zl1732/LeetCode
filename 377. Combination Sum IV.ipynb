{
 "cells": [
  {
   "cell_type": "markdown",
   "metadata": {},
   "source": [
    "# 377. Combination Sum IV"
   ]
  },
  {
   "cell_type": "code",
   "execution_count": 40,
   "metadata": {
    "collapsed": true
   },
   "outputs": [],
   "source": [
    "class Solution(object):\n",
    "    def combinationSum4(self, nums, target):\n",
    "        \"\"\"\n",
    "        :type nums: List[int]\n",
    "        :type target: int\n",
    "        :rtype: int\n",
    "        \"\"\"\n",
    "        # 很重要！\n",
    "        nums = sorted(nums)\n",
    "        # 动态优化的表，盛着到达每个数的种数\n",
    "        dplist = [0]*target\n",
    "        for i in range(1,target+1): # 计算到达每个数的种类\n",
    "            for num in nums:      # 从给定的nums里找\n",
    "                if num >i:        # 最小的数都太大\n",
    "                    break\n",
    "                if num == i:\n",
    "                    dplist[i-1] += 1\n",
    "                if num < i:\n",
    "                    dplist[i-1] += dplist[i-num-1]   # 到达5的种类，等于到达5-num的种类+到达num的种类\n",
    "                print(\"i: \",i,\"nums: \",num, dplist)\n",
    "        return dplist"
   ]
  },
  {
   "cell_type": "code",
   "execution_count": 41,
   "metadata": {
    "collapsed": false
   },
   "outputs": [
    {
     "name": "stdout",
     "output_type": "stream",
     "text": [
      "i:  1 nums:  1 [1, 0, 0, 0]\n",
      "i:  2 nums:  1 [1, 1, 0, 0]\n",
      "i:  2 nums:  2 [1, 2, 0, 0]\n",
      "i:  3 nums:  1 [1, 2, 2, 0]\n",
      "i:  3 nums:  2 [1, 2, 3, 0]\n",
      "i:  3 nums:  3 [1, 2, 4, 0]\n",
      "i:  4 nums:  1 [1, 2, 4, 4]\n",
      "i:  4 nums:  2 [1, 2, 4, 6]\n",
      "i:  4 nums:  3 [1, 2, 4, 7]\n"
     ]
    },
    {
     "data": {
      "text/plain": [
       "[1, 2, 4, 7]"
      ]
     },
     "execution_count": 41,
     "metadata": {},
     "output_type": "execute_result"
    }
   ],
   "source": [
    "nums = [1,2,3]\n",
    "target = 4\n",
    "s = Solution()\n",
    "s.combinationSum4(nums,target)"
   ]
  },
  {
   "cell_type": "markdown",
   "metadata": {
    "collapsed": true
   },
   "source": [
    "## 注意：\n",
    "类似于小时候奥数走格子\n",
    "到达n+m的方法等于到达m的方法加到达n的方法的和\n",
    "\n",
    "nums需要sort，不然dplist里调用时候就对应不上"
   ]
  }
 ],
 "metadata": {
  "kernelspec": {
   "display_name": "Python 3",
   "language": "python",
   "name": "python3"
  },
  "language_info": {
   "codemirror_mode": {
    "name": "ipython",
    "version": 3
   },
   "file_extension": ".py",
   "mimetype": "text/x-python",
   "name": "python",
   "nbconvert_exporter": "python",
   "pygments_lexer": "ipython3",
   "version": "3.6.0"
  }
 },
 "nbformat": 4,
 "nbformat_minor": 2
}
